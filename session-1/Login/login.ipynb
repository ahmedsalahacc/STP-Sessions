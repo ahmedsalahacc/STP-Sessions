{
 "cells": [
  {
   "cell_type": "code",
   "execution_count": 5,
   "id": "e151f5ad",
   "metadata": {},
   "outputs": [],
   "source": [
    "users = {\n",
    "    \"Ahmed\": {\"password\": \"1234\", \"secret\": \"Dont like tea\"},\n",
    "    \"Sara\": {\"password\":\"5432\", \"secret\": \"Can sing\"},\n",
    "    \"Mohamed\": {\"password\":\"1412\", \"secret\":\"Speak Chinese\"}\n",
    "}"
   ]
  },
  {
   "cell_type": "code",
   "execution_count": 6,
   "id": "17239675",
   "metadata": {},
   "outputs": [
    {
     "name": "stdout",
     "output_type": "stream",
     "text": [
      "Enter username: Ahmed\n",
      "Enter password: 1234\n"
     ]
    }
   ],
   "source": [
    "username = input(\"Enter username: \")\n",
    "password = input(\"Enter password: \")"
   ]
  },
  {
   "cell_type": "code",
   "execution_count": 7,
   "id": "55a3e977",
   "metadata": {},
   "outputs": [
    {
     "name": "stdout",
     "output_type": "stream",
     "text": [
      "Dont like tea\n"
     ]
    }
   ],
   "source": [
    "if username in users:\n",
    "    if password == users[username][\"password\"]:\n",
    "        print(users[username][\"secret\"])"
   ]
  },
  {
   "cell_type": "code",
   "execution_count": 10,
   "id": "b866723a",
   "metadata": {},
   "outputs": [],
   "source": [
    "def auth(username, password):\n",
    "    if username in users:\n",
    "        if password == users[username][\"password\"]:\n",
    "            return users[username][\"secret\"]"
   ]
  },
  {
   "cell_type": "code",
   "execution_count": 11,
   "id": "fc74136d",
   "metadata": {},
   "outputs": [
    {
     "name": "stdout",
     "output_type": "stream",
     "text": [
      "Dont like tea\n"
     ]
    }
   ],
   "source": [
    "print(auth(username, password))"
   ]
  },
  {
   "cell_type": "code",
   "execution_count": null,
   "id": "6e0123be",
   "metadata": {},
   "outputs": [],
   "source": []
  }
 ],
 "metadata": {
  "kernelspec": {
   "display_name": "Python 3",
   "language": "python",
   "name": "python3"
  },
  "language_info": {
   "codemirror_mode": {
    "name": "ipython",
    "version": 3
   },
   "file_extension": ".py",
   "mimetype": "text/x-python",
   "name": "python",
   "nbconvert_exporter": "python",
   "pygments_lexer": "ipython3",
   "version": "3.8.8"
  }
 },
 "nbformat": 4,
 "nbformat_minor": 5
}
